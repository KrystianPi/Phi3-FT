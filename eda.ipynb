{
 "cells": [
  {
   "cell_type": "code",
   "execution_count": 21,
   "metadata": {},
   "outputs": [],
   "source": [
    "import pandas as pd\n",
    "import re\n",
    "import ast"
   ]
  },
  {
   "cell_type": "code",
   "execution_count": 86,
   "metadata": {},
   "outputs": [],
   "source": [
    "df = pd.read_csv('train.csv')"
   ]
  },
  {
   "cell_type": "code",
   "execution_count": 87,
   "metadata": {},
   "outputs": [],
   "source": [
    "# Function to extract unique values followed after \"name\" field\n",
    "def extract_unique_names(text):\n",
    "    pattern = r'\"name\":\\s*\"(.*?)\"'\n",
    "    return re.findall(pattern, text)\n",
    "\n",
    "# Apply the function to each row in the \"system\" column\n",
    "df['function_calls'] = df['system'].apply(extract_unique_names)"
   ]
  },
  {
   "cell_type": "code",
   "execution_count": 88,
   "metadata": {},
   "outputs": [],
   "source": [
    "# Function to extract and convert dictionaries from the string\n",
    "def extract_dicts(row):\n",
    "    # Find the first occurrence of '{'\n",
    "    index = row['system'].find('{')\n",
    "    if index != -1:\n",
    "        # Extract everything from the first '{' onwards\n",
    "        remaining_str = row['system'][index:]\n",
    "        # Split the string by newline to separate individual dictionaries\n",
    "        dict_strings = remaining_str.split('\\n\\n')\n",
    "        dicts = []\n",
    "        for dict_str in dict_strings:\n",
    "            dict_str = dict_str.strip()\n",
    "            if dict_str:  # Ensure the string is not empty\n",
    "                try:\n",
    "                    # Convert string to dictionary\n",
    "                    dict_obj = ast.literal_eval(dict_str)\n",
    "                    dicts.append(dict_obj)\n",
    "                except (ValueError, SyntaxError) as e:\n",
    "                    continue\n",
    "        return pd.Series([dicts], index=['extracted_dicts'])\n",
    "    else:\n",
    "        # Handle the case where no dictionary is present\n",
    "        return pd.Series([[]], index=['extracted_dicts'])\n",
    "# Apply the function to each row\n",
    "df['extracted_dicts'] = df.apply(extract_dicts, axis=1)['extracted_dicts']"
   ]
  },
  {
   "cell_type": "code",
   "execution_count": 90,
   "metadata": {},
   "outputs": [
    {
     "data": {
      "text/html": [
       "<div>\n",
       "<style scoped>\n",
       "    .dataframe tbody tr th:only-of-type {\n",
       "        vertical-align: middle;\n",
       "    }\n",
       "\n",
       "    .dataframe tbody tr th {\n",
       "        vertical-align: top;\n",
       "    }\n",
       "\n",
       "    .dataframe thead th {\n",
       "        text-align: right;\n",
       "    }\n",
       "</style>\n",
       "<table border=\"1\" class=\"dataframe\">\n",
       "  <thead>\n",
       "    <tr style=\"text-align: right;\">\n",
       "      <th></th>\n",
       "      <th>dictionary</th>\n",
       "    </tr>\n",
       "    <tr>\n",
       "      <th>function_call</th>\n",
       "      <th></th>\n",
       "    </tr>\n",
       "  </thead>\n",
       "  <tbody>\n",
       "    <tr>\n",
       "      <th>get_exchange_rate</th>\n",
       "      <td>{'name': 'get_exchange_rate', 'description': '...</td>\n",
       "    </tr>\n",
       "    <tr>\n",
       "      <th>get_news_headlines</th>\n",
       "      <td>{'name': 'get_news_headlines', 'description': ...</td>\n",
       "    </tr>\n",
       "    <tr>\n",
       "      <th>generate_password</th>\n",
       "      <td>{'name': 'generate_password', 'description': '...</td>\n",
       "    </tr>\n",
       "    <tr>\n",
       "      <th>create_task</th>\n",
       "      <td>{'name': 'create_task', 'description': 'Create...</td>\n",
       "    </tr>\n",
       "    <tr>\n",
       "      <th>calculate_median</th>\n",
       "      <td>{'name': 'calculate_median', 'description': 'C...</td>\n",
       "    </tr>\n",
       "    <tr>\n",
       "      <th>...</th>\n",
       "      <td>...</td>\n",
       "    </tr>\n",
       "    <tr>\n",
       "      <th>get_wikipedia_summary</th>\n",
       "      <td>{'name': 'get_wikipedia_summary', 'description...</td>\n",
       "    </tr>\n",
       "    <tr>\n",
       "      <th>verify_user</th>\n",
       "      <td>{'name': 'verify_user', 'description': 'Verify...</td>\n",
       "    </tr>\n",
       "    <tr>\n",
       "      <th>find_local_restaurants</th>\n",
       "      <td>{'name': 'find_local_restaurants', 'descriptio...</td>\n",
       "    </tr>\n",
       "    <tr>\n",
       "      <th>score_evaluation</th>\n",
       "      <td>{'name': 'score_evaluation', 'description': 'E...</td>\n",
       "    </tr>\n",
       "    <tr>\n",
       "      <th>check_train_schedule</th>\n",
       "      <td>{'name': 'check_train_schedule', 'description'...</td>\n",
       "    </tr>\n",
       "  </tbody>\n",
       "</table>\n",
       "<p>1071 rows × 1 columns</p>\n",
       "</div>"
      ],
      "text/plain": [
       "                                                               dictionary\n",
       "function_call                                                            \n",
       "get_exchange_rate       {'name': 'get_exchange_rate', 'description': '...\n",
       "get_news_headlines      {'name': 'get_news_headlines', 'description': ...\n",
       "generate_password       {'name': 'generate_password', 'description': '...\n",
       "create_task             {'name': 'create_task', 'description': 'Create...\n",
       "calculate_median        {'name': 'calculate_median', 'description': 'C...\n",
       "...                                                                   ...\n",
       "get_wikipedia_summary   {'name': 'get_wikipedia_summary', 'description...\n",
       "verify_user             {'name': 'verify_user', 'description': 'Verify...\n",
       "find_local_restaurants  {'name': 'find_local_restaurants', 'descriptio...\n",
       "score_evaluation        {'name': 'score_evaluation', 'description': 'E...\n",
       "check_train_schedule    {'name': 'check_train_schedule', 'description'...\n",
       "\n",
       "[1071 rows x 1 columns]"
      ]
     },
     "execution_count": 90,
     "metadata": {},
     "output_type": "execute_result"
    }
   ],
   "source": [
    "# Flatten the lists of function calls and corresponding dictionaries\n",
    "function_call_dicts = []\n",
    "for index, row in df.iterrows():\n",
    "    for func, dict_obj in zip(row['function_calls'], row['extracted_dicts']):\n",
    "        function_call_dicts.append((func, dict_obj))\n",
    "\n",
    "# Create a new DataFrame with unique function calls and their corresponding dictionaries\n",
    "unique_functions = pd.DataFrame(function_call_dicts, columns=['function_call', 'dictionary'])\n",
    "unique_functions = unique_functions.drop_duplicates(subset='function_call')\n",
    "unique_functions['dictionary'] = unique_functions['dictionary'].apply(lambda x: str(x))\n",
    "\n",
    "# Set function_call as the index\n",
    "unique_functions.set_index('function_call', inplace=True)\n",
    "\n",
    "# Display the new DataFrame\n",
    "unique_functions"
   ]
  },
  {
   "cell_type": "code",
   "execution_count": 91,
   "metadata": {},
   "outputs": [],
   "source": [
    "unique_functions.to_csv('fc.csv')"
   ]
  }
 ],
 "metadata": {
  "kernelspec": {
   "display_name": ".venv",
   "language": "python",
   "name": "python3"
  },
  "language_info": {
   "codemirror_mode": {
    "name": "ipython",
    "version": 3
   },
   "file_extension": ".py",
   "mimetype": "text/x-python",
   "name": "python",
   "nbconvert_exporter": "python",
   "pygments_lexer": "ipython3",
   "version": "3.9.6"
  }
 },
 "nbformat": 4,
 "nbformat_minor": 2
}
