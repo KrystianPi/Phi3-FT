{
 "cells": [
  {
   "cell_type": "code",
   "execution_count": 36,
   "metadata": {},
   "outputs": [
    {
     "name": "stderr",
     "output_type": "stream",
     "text": [
      "ERROR:root:Failed to update token costs. Using static costs.\n",
      "/Users/krystianpietrzak/Documents/ML/Phi3-FT/.venv/lib/python3.9/site-packages/tokencost/constants.py:61: RuntimeWarning: coroutine 'update_token_costs' was never awaited\n",
      "  TOKEN_COSTS = TOKEN_COSTS_STATIC\n",
      "RuntimeWarning: Enable tracemalloc to get the object allocation traceback\n"
     ]
    }
   ],
   "source": [
    "import pandas as pd\n",
    "import boto3\n",
    "import json\n",
    "import os\n",
    "from openai import OpenAI\n",
    "from dotenv import load_dotenv\n",
    "from tokencost import calculate_prompt_cost, calculate_completion_cost\n",
    "\n",
    "bedrock_runtime = boto3.client(\"bedrock-runtime\", region_name=\"us-east-1\")"
   ]
  },
  {
   "cell_type": "code",
   "execution_count": 11,
   "metadata": {},
   "outputs": [
    {
     "name": "stderr",
     "output_type": "stream",
     "text": [
      "WARNING:root:gpt-4 may update over time. Returning num tokens assuming gpt-4-0613.\n"
     ]
    },
    {
     "name": "stdout",
     "output_type": "stream",
     "text": [
      "0.00213 + 0.00129 = 0.00342\n"
     ]
    }
   ],
   "source": [
    "\n",
    "\n",
    "model = \"gpt-4-turbo\"\n",
    "prompt = [{ \"role\": \"user\", \"content\": '''You are a helpful assistant with access to this API:\n",
    "            {\n",
    "                \"name\": \"book_flight\",\n",
    "                \"description\": \"Book a flight from one location to another on particular date.\",\n",
    "                \"parameters\": {\n",
    "                    \"type\": \"object\",\n",
    "                    \"properties\": {\n",
    "                        \"start\": {\n",
    "                            \"type\": \"string\",\n",
    "                            \"description\": \"Where the user wants to travel from\"\n",
    "                        },\n",
    "                        \"destination\": {\n",
    "                            \"type\": \"string\",\n",
    "                            \"description\": \"Where the user wants to travel to.\"\n",
    "                        }\n",
    "                        \"date\": {\n",
    "                            \"type\": \"string\",\n",
    "                            \"description\": \"Date of the flight\"\n",
    "                        }\n",
    "                    },\n",
    "                    \"required\": [\n",
    "                        \"start\",\n",
    "                        \"destination\",\n",
    "                        \"date\"\n",
    "                    ]\n",
    "                }\n",
    "            }\n",
    "          Ask the user for all required parameters or return the API call.\n",
    "          User: Hi my name is Krystian. I need to fly to Miami on 14.02.2024. Can you book a flight for me?'''\n",
    "           }\n",
    "           ]\n",
    "completion = '''<function_call>\n",
    "                book_flight\n",
    "                {\n",
    "                \"start\": \"Paris\",\n",
    "                \"destination\": \"Miami\",\n",
    "                \"date\": \"12/04/2028\"\n",
    "                }\n",
    "                </function_call>'''\n",
    "\n",
    "prompt_cost = calculate_prompt_cost(prompt, model)\n",
    "completion_cost = calculate_completion_cost(completion, model)\n",
    "\n",
    "print(f\"{prompt_cost} + {completion_cost} = {(prompt_cost + completion_cost)}\")"
   ]
  },
  {
   "cell_type": "code",
   "execution_count": 7,
   "metadata": {},
   "outputs": [],
   "source": [
    "incomplete_user_query = '''SYSTEM: You are a helpful assistant with access to the following functions. Use them if required -\n",
    "{\n",
    "    \"name\": \"send_email\",\n",
    "    \"description\": \"Send an email to a recipient\",\n",
    "    \"parameters\": {\n",
    "        \"type\": \"object\",\n",
    "        \"properties\": {\n",
    "            \"recipient\": {\n",
    "                \"type\": \"string\",\n",
    "                \"description\": \"The email address of the recipient\"\n",
    "            },\n",
    "            \"subject\": {\n",
    "...\n",
    "        ]\n",
    "    }\n",
    "} \n",
    "USER: I need to send an email to my boss. The recipient is boss@company.com. The subject should be \"Monthly Report\" and the message should be \"Please find attached the monthly report for your review.\" \n",
    "Simulate another user question that does not contain all the required details for the function call. Your response needs to start with USER: '''"
   ]
  },
  {
   "cell_type": "code",
   "execution_count": null,
   "metadata": {},
   "outputs": [],
   "source": [
    "incomplete_user_query = f'{system}\\n{user}\\nSimulate another user question that does not contain all the required details for the function call. Your response needs to start with USER:'"
   ]
  },
  {
   "cell_type": "code",
   "execution_count": 2,
   "metadata": {},
   "outputs": [],
   "source": [
    "df = pd.read_csv('train.csv')"
   ]
  },
  {
   "cell_type": "code",
   "execution_count": 46,
   "metadata": {},
   "outputs": [],
   "source": [
    "def claude_inference(prompt):\n",
    "\n",
    "    prompt_config = {\n",
    "        \"anthropic_version\": \"bedrock-2023-05-31\",\n",
    "        \"max_tokens\": 4096,\n",
    "        \"temperature\":0.1,\n",
    "        \"messages\": [\n",
    "            {\n",
    "                \"role\": \"user\",\n",
    "                \"content\": [\n",
    "                    {\"type\": \"text\", \"text\": prompt},\n",
    "                ],\n",
    "            }\n",
    "        ],\n",
    "    }\n",
    "\n",
    "    body = json.dumps(prompt_config)\n",
    "\n",
    "    model_id = \"anthropic.claude-3-5-sonnet-20240620-v1:0\"\n",
    "    accept = \"application/json\"\n",
    "    contentType = \"application/json\"\n",
    "\n",
    "    response = bedrock_runtime.invoke_model(\n",
    "        body=body, modelId=model_id, accept=accept, contentType=contentType\n",
    "    )\n",
    "    response_body = json.loads(response.get(\"body\").read())\n",
    "\n",
    "    results = response_body.get(\"content\")[0].get(\"text\")\n",
    "\n",
    "    price = (len(results)/4/1000)* 0.003+ (len(prompt)/4/1000)*0.015\n",
    "    print(f'{price}$')\n",
    "    \n",
    "    return results"
   ]
  },
  {
   "cell_type": "code",
   "execution_count": 44,
   "metadata": {},
   "outputs": [],
   "source": [
    "def gpt_inference(prompt):\n",
    "    # Load API key from .env file\n",
    "    load_dotenv()\n",
    "    api_key = os.getenv(\"OPENAI_API_KEY\")\n",
    "    client = OpenAI(api_key=api_key)\n",
    "    \n",
    "    if api_key is None:\n",
    "        raise ValueError(\"API key not found. Please set the OPENAI_API_KEY environment variable in the .env file.\")\n",
    "    \n",
    "    completion = client.chat.completions.create(\n",
    "                                            model=\"gpt-4o\",\n",
    "                                            temperature=0.1,\n",
    "                                            max_tokens=4096,\n",
    "                                            messages=[\n",
    "                                                {\"role\": \"user\", \"content\": prompt}\n",
    "                                            ]\n",
    "                                            )\n",
    "    \n",
    "    response = completion.choices[0].message.content\n",
    "\n",
    "    prompt_cost = calculate_prompt_cost(prompt, \"gpt-4o\")\n",
    "    completion_cost = calculate_completion_cost(response, \"gpt-4o\")\n",
    "\n",
    "    print(f\"{(prompt_cost + completion_cost)}$\")\n",
    "\n",
    "    return response"
   ]
  },
  {
   "cell_type": "code",
   "execution_count": 47,
   "metadata": {},
   "outputs": [
    {
     "name": "stdout",
     "output_type": "stream",
     "text": [
      "0.00303675$\n"
     ]
    },
    {
     "data": {
      "text/plain": [
       "\"USER: Can you help me send an email to my colleague about the project update? I want to make sure they're informed about our progress.\""
      ]
     },
     "execution_count": 47,
     "metadata": {},
     "output_type": "execute_result"
    }
   ],
   "source": [
    "claude_inference(incomplete_user_query)"
   ]
  },
  {
   "cell_type": "code",
   "execution_count": 45,
   "metadata": {},
   "outputs": [
    {
     "name": "stdout",
     "output_type": "stream",
     "text": [
      "0.001120$\n"
     ]
    },
    {
     "data": {
      "text/plain": [
       "'USER: I need to send an email to my colleague. The subject is \"Meeting Update\".'"
      ]
     },
     "execution_count": 45,
     "metadata": {},
     "output_type": "execute_result"
    }
   ],
   "source": [
    "gpt_inference(incomplete_user_query)"
   ]
  }
 ],
 "metadata": {
  "kernelspec": {
   "display_name": ".venv",
   "language": "python",
   "name": "python3"
  },
  "language_info": {
   "codemirror_mode": {
    "name": "ipython",
    "version": 3
   },
   "file_extension": ".py",
   "mimetype": "text/x-python",
   "name": "python",
   "nbconvert_exporter": "python",
   "pygments_lexer": "ipython3",
   "version": "3.9.6"
  }
 },
 "nbformat": 4,
 "nbformat_minor": 2
}
