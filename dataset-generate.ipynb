{
 "cells": [
  {
   "cell_type": "code",
   "execution_count": 11,
   "metadata": {},
   "outputs": [
    {
     "name": "stderr",
     "output_type": "stream",
     "text": [
      "WARNING:root:gpt-4 may update over time. Returning num tokens assuming gpt-4-0613.\n"
     ]
    },
    {
     "name": "stdout",
     "output_type": "stream",
     "text": [
      "0.00213 + 0.00129 = 0.00342\n"
     ]
    }
   ],
   "source": [
    "from tokencost import calculate_prompt_cost, calculate_completion_cost\n",
    "\n",
    "model = \"gpt-4-turbo\"\n",
    "prompt = [{ \"role\": \"user\", \"content\": '''You are a helpful assistant with access to this API:\n",
    "            {\n",
    "                \"name\": \"book_flight\",\n",
    "                \"description\": \"Book a flight from one location to another on particular date.\",\n",
    "                \"parameters\": {\n",
    "                    \"type\": \"object\",\n",
    "                    \"properties\": {\n",
    "                        \"start\": {\n",
    "                            \"type\": \"string\",\n",
    "                            \"description\": \"Where the user wants to travel from\"\n",
    "                        },\n",
    "                        \"destination\": {\n",
    "                            \"type\": \"string\",\n",
    "                            \"description\": \"Where the user wants to travel to.\"\n",
    "                        }\n",
    "                        \"date\": {\n",
    "                            \"type\": \"string\",\n",
    "                            \"description\": \"Date of the flight\"\n",
    "                        }\n",
    "                    },\n",
    "                    \"required\": [\n",
    "                        \"start\",\n",
    "                        \"destination\",\n",
    "                        \"date\"\n",
    "                    ]\n",
    "                }\n",
    "            }\n",
    "          Ask the user for all required parameters or return the API call.\n",
    "          User: Hi my name is Krystian. I need to fly to Miami on 14.02.2024. Can you book a flight for me?'''\n",
    "           }\n",
    "           ]\n",
    "completion = '''<function_call>\n",
    "                book_flight\n",
    "                {\n",
    "                \"start\": \"Paris\",\n",
    "                \"destination\": \"Miami\",\n",
    "                \"date\": \"12/04/2028\"\n",
    "                }\n",
    "                </function_call>'''\n",
    "\n",
    "prompt_cost = calculate_prompt_cost(prompt, model)\n",
    "completion_cost = calculate_completion_cost(completion, model)\n",
    "\n",
    "print(f\"{prompt_cost} + {completion_cost} = {(prompt_cost + completion_cost)}\")"
   ]
  }
 ],
 "metadata": {
  "kernelspec": {
   "display_name": ".venv",
   "language": "python",
   "name": "python3"
  },
  "language_info": {
   "codemirror_mode": {
    "name": "ipython",
    "version": 3
   },
   "file_extension": ".py",
   "mimetype": "text/x-python",
   "name": "python",
   "nbconvert_exporter": "python",
   "pygments_lexer": "ipython3",
   "version": "3.9.6"
  }
 },
 "nbformat": 4,
 "nbformat_minor": 2
}
